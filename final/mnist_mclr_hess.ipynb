{
 "cells": [
  {
   "cell_type": "code",
   "execution_count": 54,
   "metadata": {},
   "outputs": [],
   "source": [
    "import torchvision\n",
    "import torchvision.datasets as datasets \n",
    "import torchvision.transforms as transforms\n",
    "from torch.utils.data import DataLoader\n",
    "import torch\n",
    "import torch.optim as optim\n",
    "import torch.nn as nn\n",
    "import numpy as np\n",
    "import os \n",
    "import matplotlib.pyplot as plt\n",
    "import time "
   ]
  },
  {
   "cell_type": "code",
   "execution_count": 55,
   "metadata": {},
   "outputs": [
    {
     "name": "stdout",
     "output_type": "stream",
     "text": [
      "/Volumes/Research/neural-network/final/data\n"
     ]
    }
   ],
   "source": [
    "current_dir = os.path.dirname(os.path.abspath(''))\n",
    "data_dir = os.path.join(current_dir, 'final', 'data')\n",
    "print(data_dir)\n",
    "if not os.path.exists(data_dir): \n",
    "    os.makedirs(data_dir)"
   ]
  },
  {
   "cell_type": "code",
   "execution_count": 56,
   "metadata": {},
   "outputs": [
    {
     "name": "stdout",
     "output_type": "stream",
     "text": [
      "cpu\n"
     ]
    }
   ],
   "source": [
    "device = torch.device('cuda' if torch.cuda.is_available() else 'cpu')\n",
    "print(device)"
   ]
  },
  {
   "cell_type": "code",
   "execution_count": 57,
   "metadata": {},
   "outputs": [
    {
     "name": "stdout",
     "output_type": "stream",
     "text": [
      "mu = (28, 28), sigma = (28, 28)\n"
     ]
    }
   ],
   "source": [
    "mnist_train = datasets.MNIST(root=data_dir, train=True, download=True, transform=transform)\n",
    "\n",
    "mnist_image = []\n",
    "mnist_target = []\n",
    "for image, target in mnist_train: \n",
    "    mnist_image.append(np.asarray(image).reshape(-1))\n",
    "    mnist_target.append(target)\n",
    "\n",
    "mnist_image = np.asarray(mnist_image)\n",
    "mnist_target = np.asarray(mnist_target)\n",
    "\n",
    "# Normalize the image data\n",
    "mu = np.mean(mnist_image, axis=0).reshape(28, 28)\n",
    "sigma = np.std(mnist_image, axis=0).reshape(28, 28)\n",
    "\n",
    "print(f\"mu = {mu.shape}, sigma = {sigma.shape}\")"
   ]
  },
  {
   "cell_type": "code",
   "execution_count": 58,
   "metadata": {},
   "outputs": [
    {
     "data": {
      "image/png": "[encoded data removed]",
      "text/plain": [
       "<Figure size 640x480 with 1 Axes>"
      ]
     },
     "metadata": {},
     "output_type": "display_data"
    },
    {
     "name": "stdout",
     "output_type": "stream",
     "text": [
      "    0     4     7     4\n",
      "max(mnist_image[0]) = 1.0, min(mnist_image[0]) = 0.0\n"
     ]
    }
   ],
   "source": [
    "batch_size=4\n",
    "\n",
    "# transform = transforms.ToTensor()\n",
    "tranform = transforms.Normalize(mu, sigma, inplace=False)\n",
    "\n",
    "# Get MNIST data, normalize, divide by level \n",
    "mnist_train = datasets.MNIST(root=data_dir, train=True, download=True, transform=transform)\n",
    "testset = datasets.MNIST(root=data_dir, train=False, download=True, transform=transform)\n",
    "\n",
    "trainloader = DataLoader(mnist_train, batch_size=batch_size, shuffle=True, pin_memory=True)\n",
    "testloader = DataLoader(testset, batch_size=batch_size, shuffle=False, pin_memory=True)\n",
    "\n",
    "# functions to show an image\n",
    "def imshow(img):\n",
    "    img = img / 2 + 0.5     # unnormalize\n",
    "    npimg = img.numpy()\n",
    "    plt.imshow(np.transpose(npimg, (1, 2, 0)))\n",
    "    plt.show()\n",
    "\n",
    "# get some random training images\n",
    "dataiter = iter(trainloader)\n",
    "images, labels = next(dataiter)\n",
    "\n",
    "# show images\n",
    "imshow(torchvision.utils.make_grid(images))\n",
    "# print labels\n",
    "print(' '.join(f'{labels[j]:5}' for j in range(batch_size)))\n",
    "print(f\"max(mnist_image[0]) = {torch.max(images[0][0])}, min(mnist_image[0]) = {torch.min(images[0][0])}\")"
   ]
  },
  {
   "cell_type": "code",
   "execution_count": 59,
   "metadata": {},
   "outputs": [
    {
     "data": {
      "text/plain": [
       "Net(\n",
       "  (linear): Linear(in_features=784, out_features=10, bias=True)\n",
       ")"
      ]
     },
     "execution_count": 59,
     "metadata": {},
     "output_type": "execute_result"
    }
   ],
   "source": [
    "class Net(nn.Module):\n",
    "    def __init__(self):\n",
    "        super().__init__()\n",
    "        self.linear = nn.Linear(784, 10)\n",
    "\n",
    "    def forward(self, x):\n",
    "        x = self.linear(x)\n",
    "        return x\n",
    "\n",
    "net = Net()\n",
    "net.to(device)"
   ]
  },
  {
   "cell_type": "code",
   "execution_count": 60,
   "metadata": {},
   "outputs": [
    {
     "name": "stdout",
     "output_type": "stream",
     "text": [
      "[1,  2000] loss: 1.609\n",
      "[1,  4000] loss: 1.010\n",
      "[1,  6000] loss: 0.815\n",
      "[1,  8000] loss: 0.702\n",
      "[1, 10000] loss: 0.644\n",
      "[1, 12000] loss: 0.587\n",
      "[1, 14000] loss: 0.569\n",
      "[2,  2000] loss: 0.520\n",
      "[2,  4000] loss: 0.512\n",
      "[2,  6000] loss: 0.486\n",
      "[2,  8000] loss: 0.487\n",
      "[2, 10000] loss: 0.466\n",
      "[2, 12000] loss: 0.462\n",
      "[2, 14000] loss: 0.448\n",
      "[3,  2000] loss: 0.448\n",
      "[3,  4000] loss: 0.432\n",
      "[3,  6000] loss: 0.426\n",
      "[3,  8000] loss: 0.421\n",
      "[3, 10000] loss: 0.405\n",
      "[3, 12000] loss: 0.423\n",
      "[3, 14000] loss: 0.395\n",
      "[4,  2000] loss: 0.400\n",
      "[4,  4000] loss: 0.403\n",
      "[4,  6000] loss: 0.398\n",
      "[4,  8000] loss: 0.393\n",
      "[4, 10000] loss: 0.390\n",
      "[4, 12000] loss: 0.385\n",
      "[4, 14000] loss: 0.377\n",
      "[5,  2000] loss: 0.385\n",
      "[5,  4000] loss: 0.384\n",
      "[5,  6000] loss: 0.364\n",
      "[5,  8000] loss: 0.370\n",
      "[5, 10000] loss: 0.368\n",
      "[5, 12000] loss: 0.387\n",
      "[5, 14000] loss: 0.363\n",
      "[6,  2000] loss: 0.359\n",
      "[6,  4000] loss: 0.379\n",
      "[6,  6000] loss: 0.363\n",
      "[6,  8000] loss: 0.347\n",
      "[6, 10000] loss: 0.362\n",
      "[6, 12000] loss: 0.360\n",
      "[6, 14000] loss: 0.352\n",
      "[7,  2000] loss: 0.352\n",
      "[7,  4000] loss: 0.349\n",
      "[7,  6000] loss: 0.345\n",
      "[7,  8000] loss: 0.360\n",
      "[7, 10000] loss: 0.347\n",
      "[7, 12000] loss: 0.366\n",
      "[7, 14000] loss: 0.333\n",
      "[8,  2000] loss: 0.342\n",
      "[8,  4000] loss: 0.334\n",
      "[8,  6000] loss: 0.353\n",
      "[8,  8000] loss: 0.342\n",
      "[8, 10000] loss: 0.351\n",
      "[8, 12000] loss: 0.329\n",
      "[8, 14000] loss: 0.345\n",
      "[9,  2000] loss: 0.359\n",
      "[9,  4000] loss: 0.322\n",
      "[9,  6000] loss: 0.328\n",
      "[9,  8000] loss: 0.333\n",
      "[9, 10000] loss: 0.341\n",
      "[9, 12000] loss: 0.345\n",
      "[9, 14000] loss: 0.321\n",
      "[10,  2000] loss: 0.353\n",
      "[10,  4000] loss: 0.335\n",
      "[10,  6000] loss: 0.332\n",
      "[10,  8000] loss: 0.327\n",
      "[10, 10000] loss: 0.328\n",
      "[10, 12000] loss: 0.318\n",
      "[10, 14000] loss: 0.323\n",
      "[11,  2000] loss: 0.304\n",
      "[11,  4000] loss: 0.338\n",
      "[11,  6000] loss: 0.325\n",
      "[11,  8000] loss: 0.321\n",
      "[11, 10000] loss: 0.338\n",
      "[11, 12000] loss: 0.326\n",
      "[11, 14000] loss: 0.321\n",
      "[12,  2000] loss: 0.320\n",
      "[12,  4000] loss: 0.319\n",
      "[12,  6000] loss: 0.321\n",
      "[12,  8000] loss: 0.313\n",
      "[12, 10000] loss: 0.326\n",
      "[12, 12000] loss: 0.326\n",
      "[12, 14000] loss: 0.322\n",
      "[13,  2000] loss: 0.313\n",
      "[13,  4000] loss: 0.318\n",
      "[13,  6000] loss: 0.319\n",
      "[13,  8000] loss: 0.326\n",
      "[13, 10000] loss: 0.317\n",
      "[13, 12000] loss: 0.305\n",
      "[13, 14000] loss: 0.333\n",
      "[14,  2000] loss: 0.320\n",
      "[14,  4000] loss: 0.310\n",
      "[14,  6000] loss: 0.320\n",
      "[14,  8000] loss: 0.313\n",
      "[14, 10000] loss: 0.309\n",
      "[14, 12000] loss: 0.316\n",
      "[14, 14000] loss: 0.315\n",
      "[15,  2000] loss: 0.301\n",
      "[15,  4000] loss: 0.309\n",
      "[15,  6000] loss: 0.311\n",
      "[15,  8000] loss: 0.315\n",
      "[15, 10000] loss: 0.312\n",
      "[15, 12000] loss: 0.332\n",
      "[15, 14000] loss: 0.308\n",
      "[16,  2000] loss: 0.321\n",
      "[16,  4000] loss: 0.311\n",
      "[16,  6000] loss: 0.304\n",
      "[16,  8000] loss: 0.320\n",
      "[16, 10000] loss: 0.298\n",
      "[16, 12000] loss: 0.309\n",
      "[16, 14000] loss: 0.312\n",
      "[17,  2000] loss: 0.313\n",
      "[17,  4000] loss: 0.296\n",
      "[17,  6000] loss: 0.321\n",
      "[17,  8000] loss: 0.317\n",
      "[17, 10000] loss: 0.296\n",
      "[17, 12000] loss: 0.311\n",
      "[17, 14000] loss: 0.301\n",
      "[18,  2000] loss: 0.298\n",
      "[18,  4000] loss: 0.293\n",
      "[18,  6000] loss: 0.310\n",
      "[18,  8000] loss: 0.308\n",
      "[18, 10000] loss: 0.312\n",
      "[18, 12000] loss: 0.307\n",
      "[18, 14000] loss: 0.302\n",
      "[19,  2000] loss: 0.294\n",
      "[19,  4000] loss: 0.319\n",
      "[19,  6000] loss: 0.295\n",
      "[19,  8000] loss: 0.297\n",
      "[19, 10000] loss: 0.298\n",
      "[19, 12000] loss: 0.308\n",
      "[19, 14000] loss: 0.318\n",
      "[20,  2000] loss: 0.291\n",
      "[20,  4000] loss: 0.319\n",
      "[20,  6000] loss: 0.294\n",
      "[20,  8000] loss: 0.293\n",
      "[20, 10000] loss: 0.315\n",
      "[20, 12000] loss: 0.289\n",
      "[20, 14000] loss: 0.308\n",
      "Finished Training, training time = 6.111705887317657 s\n"
     ]
    }
   ],
   "source": [
    "criterion = nn.CrossEntropyLoss()\n",
    "optimizer = optim.SGD(net.parameters(), lr=0.001)\n",
    "\n",
    "size = len(trainloader.dataset)\n",
    "num_batches = len(trainloader)\n",
    "\n",
    "running_losses = []\n",
    "eval_every = 2000\n",
    "num_epochs = 20 \n",
    "\n",
    "start_time_s = time.time()\n",
    "for epoch in range(num_epochs):  # loop over the dataset multiple times\n",
    "    running_loss = 0.0\n",
    "\n",
    "    for batch, data in enumerate(trainloader):\n",
    "        inputs, labels = data\n",
    "        inputs = inputs.to(device=device)\n",
    "        labels = labels.to(device=device)\n",
    "        inputs = inputs.view(-1, 784)\n",
    "\n",
    "        # zero the parameter gradients\n",
    "        optimizer.zero_grad()\n",
    "        # forward + backward + optimize\n",
    "        pred = net(inputs)\n",
    "        loss = criterion(pred, labels)\n",
    "        loss.backward()\n",
    "        optimizer.step()\n",
    "\n",
    "        # print statistics\n",
    "        running_loss += loss.item()\n",
    "        if batch % eval_every == (eval_every-1):    # print every 20 mini-batches\n",
    "            running_loss = running_loss / eval_every\n",
    "            print(f'[{epoch + 1}, {batch + 1:5d}] loss: {running_loss:.3f}')\n",
    "            running_losses.append(running_loss)\n",
    "            running_loss = 0.0\n",
    "\n",
    "time_s = (time.time() - start_time_s)/num_epochs\n",
    "print('Finished Training, training time = {} s'.format(time_s))"
   ]
  },
  {
   "cell_type": "code",
   "execution_count": 63,
   "metadata": {},
   "outputs": [
    {
     "name": "stdout",
     "output_type": "stream",
     "text": [
      "tensor(-0.0189) tensor(0.0352)\n"
     ]
    }
   ],
   "source": [
    "testloader = DataLoader(testset, batch_size=10000, shuffle=False, pin_memory=True)\n",
    "\n",
    "num_param = sum(p.numel() for p in net.parameters())\n",
    "''' Calculate Hessian '''\n",
    "\n",
    "min_hess = []\n",
    "max_hess = []\n",
    "\n",
    "start = time.time()\n",
    "\n",
    "for _ in range(10): \n",
    "    for batch, data in enumerate(trainloader):\n",
    "        inputs, labels = data\n",
    "        inputs = inputs.to(device=device)\n",
    "        labels = labels.to(device=device)\n",
    "        inputs = inputs.view(-1, 784)\n",
    "\n",
    "        # zero the parameter gradients\n",
    "        optimizer.zero_grad()\n",
    "        # forward + backward + optimize\n",
    "        pred = net(inputs)\n",
    "        loss = criterion(pred, labels)\n",
    "\n",
    "        # Allocate Hessian size\n",
    "        H = torch.zeros((num_param, num_param))\n",
    "\n",
    "        # Calculate Jacobian w.r.t. model parameters\n",
    "        J = torch.autograd.grad(loss, list(net.parameters()), create_graph=True)\n",
    "        J = torch.cat([e.flatten() for e in J]) # flatten\n",
    "\n",
    "        # Fill in Hessian\n",
    "        for i in range(num_param):\n",
    "            result = torch.autograd.grad(J[i], list(net.parameters()), retain_graph=True)\n",
    "            H[i] = torch.cat([r.flatten() for r in result]) # flatten\n",
    "        \n",
    "        print(torch.min(H), torch.max(H))\n",
    "\n",
    "        break \n",
    "\n",
    "# print(time.time() - start)"
   ]
  },
  {
   "cell_type": "code",
   "execution_count": 62,
   "metadata": {},
   "outputs": [
    {
     "ename": "SyntaxError",
     "evalue": "invalid syntax (3938758281.py, line 1)",
     "output_type": "error",
     "traceback": [
      "\u001b[0;36m  Cell \u001b[0;32mIn[62], line 1\u001b[0;36m\u001b[0m\n\u001b[0;31m    tensor(-0.0122) tensor(0.0323)\u001b[0m\n\u001b[0m                    ^\u001b[0m\n\u001b[0;31mSyntaxError\u001b[0m\u001b[0;31m:\u001b[0m invalid syntax\n"
     ]
    }
   ],
   "source": [
    "tensor(-0.0122) tensor(0.0323)\n",
    "tensor(-0.0545) tensor(0.0583)\n",
    "tensor(-0.0265) tensor(0.0730)\n",
    "tensor(-0.0485) tensor(0.0937)"
   ]
  },
  {
   "cell_type": "code",
   "execution_count": null,
   "metadata": {},
   "outputs": [
    {
     "data": {
      "text/plain": [
       "0.064325"
      ]
     },
     "execution_count": 20,
     "metadata": {},
     "output_type": "execute_result"
    }
   ],
   "source": [
    "avg = 0.0323 + 0.0583 + 0.0730 + 0.0937\n",
    "avg = avg / 4\n",
    "\n",
    "avg"
   ]
  },
  {
   "cell_type": "code",
   "execution_count": null,
   "metadata": {},
   "outputs": [],
   "source": [
    "0.0001"
   ]
  },
  {
   "cell_type": "code",
   "execution_count": null,
   "metadata": {},
   "outputs": [
    {
     "data": {
      "text/plain": [
       "tensor(1.)"
      ]
     },
     "execution_count": 31,
     "metadata": {},
     "output_type": "execute_result"
    }
   ],
   "source": [
    "testloader = DataLoader(testset, batch_size=1, shuffle=False, pin_memory=True)\n",
    "dataiter = iter(testloader)\n",
    "images, labels = next(dataiter)\n",
    "\n",
    "images.size()\n",
    "image = images[0][0]\n",
    "image.size()\n",
    "\n",
    "torch.min(image)\n",
    "torch.max(image)"
   ]
  },
  {
   "cell_type": "code",
   "execution_count": null,
   "metadata": {},
   "outputs": [],
   "source": []
  }
 ],
 "metadata": {
  "kernelspec": {
   "display_name": "pytorch-gpu",
   "language": "python",
   "name": "python3"
  },
  "language_info": {
   "codemirror_mode": {
    "name": "ipython",
    "version": 3
   },
   "file_extension": ".py",
   "mimetype": "text/x-python",
   "name": "python",
   "nbconvert_exporter": "python",
   "pygments_lexer": "ipython3",
   "version": "3.8.15"
  },
  "orig_nbformat": 4
 },
 "nbformat": 4,
 "nbformat_minor": 2
}
