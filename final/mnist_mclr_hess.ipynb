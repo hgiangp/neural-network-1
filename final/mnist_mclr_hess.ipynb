{
 "cells": [
  {
   "cell_type": "code",
   "execution_count": 5,
   "metadata": {},
   "outputs": [],
   "source": [
    "import torchvision\n",
    "import torchvision.datasets as datasets \n",
    "import torchvision.transforms as transforms\n",
    "from torch.utils.data import DataLoader\n",
    "import torch\n",
    "import torch.optim as optim\n",
    "import torch.nn as nn\n",
    "import numpy as np\n",
    "import os \n",
    "import matplotlib.pyplot as plt\n",
    "import time \n",
    "from torch import linalg as LA\n",
    "from copy import deepcopy "
   ]
  },
  {
   "cell_type": "code",
   "execution_count": 6,
   "metadata": {},
   "outputs": [
    {
     "name": "stdout",
     "output_type": "stream",
     "text": [
      "/home/hgiang/2022_coding/neural-network-1/final/data\n"
     ]
    }
   ],
   "source": [
    "current_dir = os.path.dirname(os.path.abspath(''))\n",
    "data_dir = os.path.join(current_dir, 'final', 'data')\n",
    "print(data_dir)\n",
    "if not os.path.exists(data_dir): \n",
    "    os.makedirs(data_dir)"
   ]
  },
  {
   "cell_type": "code",
   "execution_count": 7,
   "metadata": {},
   "outputs": [
    {
     "name": "stdout",
     "output_type": "stream",
     "text": [
      "cuda\n"
     ]
    }
   ],
   "source": [
    "device = torch.device('cuda' if torch.cuda.is_available() else 'cpu')\n",
    "print(device)"
   ]
  },
  {
   "cell_type": "code",
   "execution_count": 8,
   "metadata": {},
   "outputs": [
    {
     "name": "stdout",
     "output_type": "stream",
     "text": [
      "mu = (28, 28), sigma = (28, 28)\n"
     ]
    }
   ],
   "source": [
    "transform = transforms.ToTensor()\n",
    "mnist_train = datasets.MNIST(root=data_dir, train=True, download=True, transform=transform)\n",
    "\n",
    "mnist_image = []\n",
    "mnist_target = []\n",
    "for image, target in mnist_train: \n",
    "    mnist_image.append(np.asarray(image).reshape(-1))\n",
    "    mnist_target.append(target)\n",
    "\n",
    "mnist_image = np.asarray(mnist_image)\n",
    "mnist_target = np.asarray(mnist_target)\n",
    "\n",
    "# Normalize the image data\n",
    "mu = np.mean(mnist_image, axis=0).reshape(28, 28)\n",
    "sigma = np.std(mnist_image, axis=0).reshape(28, 28)\n",
    "\n",
    "print(f\"mu = {mu.shape}, sigma = {sigma.shape}\")"
   ]
  },
  {
   "cell_type": "code",
   "execution_count": 9,
   "metadata": {},
   "outputs": [
    {
     "data": {
      "image/png": "[encoded data removed]",
      "text/plain": [
       "<Figure size 640x480 with 1 Axes>"
      ]
     },
     "metadata": {},
     "output_type": "display_data"
    },
    {
     "name": "stdout",
     "output_type": "stream",
     "text": [
      "    8     9     2     3\n",
      "max(mnist_image[0]) = 1.0, min(mnist_image[0]) = 0.0\n"
     ]
    }
   ],
   "source": [
    "batch_size=4\n",
    "\n",
    "# transform = transforms.ToTensor()\n",
    "tranform = transforms.Normalize(mu, sigma, inplace=False)\n",
    "\n",
    "# Get MNIST data, normalize, divide by level \n",
    "mnist_train = datasets.MNIST(root=data_dir, train=True, download=True, transform=transform)\n",
    "testset = datasets.MNIST(root=data_dir, train=False, download=True, transform=transform)\n",
    "\n",
    "trainloader = DataLoader(mnist_train, batch_size=batch_size, shuffle=True, pin_memory=True)\n",
    "testloader = DataLoader(testset, batch_size=batch_size, shuffle=False, pin_memory=True)\n",
    "\n",
    "# functions to show an image\n",
    "def imshow(img):\n",
    "    img = img / 2 + 0.5     # unnormalize\n",
    "    npimg = img.numpy()\n",
    "    plt.imshow(np.transpose(npimg, (1, 2, 0)))\n",
    "    plt.show()\n",
    "\n",
    "# get some random training images\n",
    "dataiter = iter(trainloader)\n",
    "images, labels = next(dataiter)\n",
    "\n",
    "# show images\n",
    "imshow(torchvision.utils.make_grid(images))\n",
    "# print labels\n",
    "print(' '.join(f'{labels[j]:5}' for j in range(batch_size)))\n",
    "print(f\"max(mnist_image[0]) = {torch.max(images[0][0])}, min(mnist_image[0]) = {torch.min(images[0][0])}\")"
   ]
  },
  {
   "cell_type": "code",
   "execution_count": 10,
   "metadata": {},
   "outputs": [],
   "source": [
    "class Net(nn.Module):\n",
    "    def __init__(self):\n",
    "        super().__init__()\n",
    "        self.linear = nn.Linear(784, 10)\n",
    "\n",
    "    def forward(self, x):\n",
    "        x = self.linear(x)\n",
    "        return x"
   ]
  },
  {
   "cell_type": "code",
   "execution_count": 32,
   "metadata": {},
   "outputs": [],
   "source": [
    "def compute_jab(loss, net_params):\n",
    "    J = torch.autograd.grad(loss, list(net_params), create_graph=True)\n",
    "    J = torch.cat([e.flatten() for e in J]) # flatten\n",
    "    return J"
   ]
  },
  {
   "cell_type": "code",
   "execution_count": 26,
   "metadata": {},
   "outputs": [],
   "source": [
    "def compute_hess(jab, net_params): \n",
    "    num_param = sum(p.numel() for p in net_params)\n",
    "    # Allocate Hessian size\n",
    "    H = torch.zeros((num_param, num_param))\n",
    "    \n",
    "    for i in range(num_param):\n",
    "        result = torch.autograd.grad(jab[i], list(net.parameters()), retain_graph=True)\n",
    "        H[i] = torch.cat([r.flatten() for r in result]) # flatten\n",
    "    \n",
    "    return H "
   ]
  },
  {
   "cell_type": "code",
   "execution_count": 13,
   "metadata": {},
   "outputs": [],
   "source": [
    "def norm_params(param1, param2): \n",
    "    \n",
    "    # Flatten parameters \n",
    "    p1 = torch.cat([e.flatten() for e in param1])\n",
    "    p2 = torch.cat([e.flatten() for e in param2])\n",
    "\n",
    "    p = p1 - p2 \n",
    "    return LA.vector_norm(p, ord=1).item()"
   ]
  },
  {
   "cell_type": "code",
   "execution_count": 14,
   "metadata": {},
   "outputs": [],
   "source": [
    "def calc_norm(param): \n",
    "    p = torch.cat([e.flatten() for e in param])\n",
    "    return LA.vector_norm(p, ord=1).item()"
   ]
  },
  {
   "cell_type": "code",
   "execution_count": 15,
   "metadata": {},
   "outputs": [],
   "source": [
    "def compute_loss(net, criterion, dataloader): \n",
    "    loss = torch.zeros(1, device=device)\n",
    "    num_batches = len(dataloader)\n",
    "    for batch, data in enumerate(dataloader):\n",
    "        inputs, labels = data\n",
    "        inputs = inputs.to(device=device)\n",
    "        labels = labels.to(device=device)\n",
    "        inputs = inputs.view(-1, 784)\n",
    "        loss += criterion(net(inputs), labels)\n",
    "    \n",
    "    loss = loss/num_batches\n",
    "    return loss "
   ]
  },
  {
   "cell_type": "code",
   "execution_count": 53,
   "metadata": {},
   "outputs": [],
   "source": [
    "net = Net()\n",
    "net.to(device)\n",
    "criterion = nn.CrossEntropyLoss()\n",
    "optimizer = optim.SGD(net.parameters(), lr=0.001)"
   ]
  },
  {
   "cell_type": "code",
   "execution_count": 54,
   "metadata": {},
   "outputs": [
    {
     "name": "stdout",
     "output_type": "stream",
     "text": [
      "p1 = 139.29965209960938, loss1 = 2.3213980197906494, jab1 = 52.422149658203125\n"
     ]
    },
    {
     "ename": "RuntimeError",
     "evalue": "Trying to backward through the graph a second time (or directly access saved tensors after they have already been freed). Saved intermediate values of the graph are freed when you call .backward() or autograd.grad(). Specify retain_graph=True if you need to backward through the graph a second time or if you need to access saved tensors after calling backward.",
     "output_type": "error",
     "traceback": [
      "\u001b[0;31m---------------------------------------------------------------------------\u001b[0m",
      "\u001b[0;31mRuntimeError\u001b[0m                              Traceback (most recent call last)",
      "Cell \u001b[0;32mIn[54], line 37\u001b[0m\n\u001b[1;32m     34\u001b[0m p2 \u001b[39m=\u001b[39m net\u001b[39m.\u001b[39mparameters() \n\u001b[1;32m     35\u001b[0m loss2 \u001b[39m=\u001b[39m accumulated_loss\n\u001b[0;32m---> 37\u001b[0m jab2 \u001b[39m=\u001b[39m compute_jab(loss2, net\u001b[39m.\u001b[39;49mparameters())\n\u001b[1;32m     38\u001b[0m \u001b[39m# print(f\"p2 = {calc_norm(p2)}, loss2 = {calc_norm(loss2)}, jab2 = {calc_norm(jab2)}\")\u001b[39;00m\n\u001b[1;32m     40\u001b[0m param_norm \u001b[39m=\u001b[39m norm_params(p1, p2)\n",
      "Cell \u001b[0;32mIn[32], line 2\u001b[0m, in \u001b[0;36mcompute_jab\u001b[0;34m(loss, net_params)\u001b[0m\n\u001b[1;32m      1\u001b[0m \u001b[39mdef\u001b[39;00m \u001b[39mcompute_jab\u001b[39m(loss, net_params):\n\u001b[0;32m----> 2\u001b[0m     J \u001b[39m=\u001b[39m torch\u001b[39m.\u001b[39;49mautograd\u001b[39m.\u001b[39;49mgrad(loss, \u001b[39mlist\u001b[39;49m(net_params), create_graph\u001b[39m=\u001b[39;49m\u001b[39mTrue\u001b[39;49;00m)\n\u001b[1;32m      3\u001b[0m     J \u001b[39m=\u001b[39m torch\u001b[39m.\u001b[39mcat([e\u001b[39m.\u001b[39mflatten() \u001b[39mfor\u001b[39;00m e \u001b[39min\u001b[39;00m J]) \u001b[39m# flatten\u001b[39;00m\n\u001b[1;32m      4\u001b[0m     \u001b[39mreturn\u001b[39;00m J\n",
      "File \u001b[0;32m~/anaconda3/envs/torch-nn1/lib/python3.11/site-packages/torch/autograd/__init__.py:303\u001b[0m, in \u001b[0;36mgrad\u001b[0;34m(outputs, inputs, grad_outputs, retain_graph, create_graph, only_inputs, allow_unused, is_grads_batched)\u001b[0m\n\u001b[1;32m    301\u001b[0m     \u001b[39mreturn\u001b[39;00m _vmap_internals\u001b[39m.\u001b[39m_vmap(vjp, \u001b[39m0\u001b[39m, \u001b[39m0\u001b[39m, allow_none_pass_through\u001b[39m=\u001b[39m\u001b[39mTrue\u001b[39;00m)(grad_outputs_)\n\u001b[1;32m    302\u001b[0m \u001b[39melse\u001b[39;00m:\n\u001b[0;32m--> 303\u001b[0m     \u001b[39mreturn\u001b[39;00m Variable\u001b[39m.\u001b[39;49m_execution_engine\u001b[39m.\u001b[39;49mrun_backward(  \u001b[39m# Calls into the C++ engine to run the backward pass\u001b[39;49;00m\n\u001b[1;32m    304\u001b[0m         t_outputs, grad_outputs_, retain_graph, create_graph, t_inputs,\n\u001b[1;32m    305\u001b[0m         allow_unused, accumulate_grad\u001b[39m=\u001b[39;49m\u001b[39mFalse\u001b[39;49;00m)\n",
      "\u001b[0;31mRuntimeError\u001b[0m: Trying to backward through the graph a second time (or directly access saved tensors after they have already been freed). Saved intermediate values of the graph are freed when you call .backward() or autograd.grad(). Specify retain_graph=True if you need to backward through the graph a second time or if you need to access saved tensors after calling backward."
     ]
    }
   ],
   "source": [
    "size = len(trainloader.dataset)\n",
    "num_batches = len(trainloader)\n",
    "\n",
    "num_epochs = 5 \n",
    "\n",
    "loss1 = compute_loss(net, criterion, trainloader)\n",
    "# Get initial parameters \n",
    "p1 = net.parameters()\n",
    "jab1 = compute_jab(loss1, net.parameters())\n",
    "print(f\"p1 = {calc_norm(p1)}, loss1 = {calc_norm(loss1)}, jab1 = {calc_norm(jab1)}\")\n",
    " \n",
    "for epoch in range(num_epochs):\n",
    "    accumulated_loss = torch.zeros(1, device=device)\n",
    "    \n",
    "    # Train to update the model parameters \n",
    "    for batch, data in enumerate(trainloader):\n",
    "        inputs, labels = data\n",
    "        inputs = inputs.to(device=device)\n",
    "        labels = labels.to(device=device)\n",
    "        inputs = inputs.view(-1, 784)\n",
    "\n",
    "        # zero the parameter gradients\n",
    "        optimizer.zero_grad()\n",
    "        \n",
    "        pred = net(inputs)\n",
    "        loss = criterion(pred, labels)\n",
    "        loss.backward()\n",
    "        optimizer.step()\n",
    "\n",
    "        accumulated_loss += loss\n",
    "    \n",
    "    \n",
    "    # Finish training, get parameters \n",
    "    p2 = net.parameters() \n",
    "    loss2 = accumulated_loss\n",
    "\n",
    "    jab2 = compute_jab(loss2, net.parameters())\n",
    "    # print(f\"p2 = {calc_norm(p2)}, loss2 = {calc_norm(loss2)}, jab2 = {calc_norm(jab2)}\")\n",
    "\n",
    "    param_norm = norm_params(p1, p2)\n",
    "    loss_norm = norm_params(loss1, loss2)\n",
    "    jab_norm = norm_params(jab1, jab2)\n",
    "    \n",
    "    rho = loss_norm/param_norm\n",
    "    beta = jab_norm/param_norm\n",
    "    print(f\"rho = {rho} beta = {beta}\")\n",
    "\n",
    "    loss1 = deepcopy(loss2)\n",
    "    p1 = deepcopy(p2)\n",
    "    jab1 = deepcopy(jab2)"
   ]
  },
  {
   "cell_type": "code",
   "execution_count": 13,
   "metadata": {},
   "outputs": [],
   "source": [
    "current_dir = os.path.dirname(os.path.abspath(''))\n",
    "model_path = os.path.join(current_dir, 'final', 'mnist_net.pth')\n",
    "torch.save(net.state_dict(), model_path)"
   ]
  },
  {
   "cell_type": "code",
   "execution_count": 8,
   "metadata": {},
   "outputs": [
    {
     "name": "stdout",
     "output_type": "stream",
     "text": [
      "tensor(-0.0423) tensor(0.0633)\n",
      "tensor(-0.0272) tensor(0.0547)\n",
      "tensor(-0.0232) tensor(0.0731)\n",
      "tensor(-0.0428) tensor(0.1004)\n",
      "tensor(-0.0449) tensor(0.0500)\n",
      "tensor(-0.0400) tensor(0.0871)\n",
      "tensor(-0.0308) tensor(0.0491)\n",
      "tensor(-0.0318) tensor(0.0427)\n",
      "tensor(-0.0471) tensor(0.1076)\n",
      "tensor(-0.0751) tensor(0.2187)\n",
      "min_hess = tensor([-0.0423, -0.0272, -0.0232, -0.0428, -0.0449, -0.0400, -0.0308, -0.0318,\n",
      "        -0.0471, -0.0751]) max_hess = tensor([0.0633, 0.0547, 0.0731, 0.1004, 0.0500, 0.0871, 0.0491, 0.0427, 0.1076,\n",
      "        0.2187])\n"
     ]
    }
   ],
   "source": [
    "testloader = DataLoader(testset, batch_size=10000, shuffle=False, pin_memory=True)\n",
    "\n",
    "num_param = sum(p.numel() for p in net.parameters())\n",
    "''' Calculate Hessian '''\n",
    "\n",
    "min_hess = []\n",
    "max_hess = []\n",
    "\n",
    "start = time.time()\n",
    "\n",
    "for _ in range(10): \n",
    "    for batch, data in enumerate(trainloader):\n",
    "        inputs, labels = data\n",
    "        inputs = inputs.to(device=device)\n",
    "        labels = labels.to(device=device)\n",
    "        inputs = inputs.view(-1, 784)\n",
    "\n",
    "        # zero the parameter gradients\n",
    "        optimizer.zero_grad()\n",
    "        # forward + backward + optimize\n",
    "        pred = net(inputs)\n",
    "        loss = criterion(pred, labels)\n",
    "\n",
    "        # Allocate Hessian size\n",
    "        H = torch.zeros((num_param, num_param))\n",
    "\n",
    "        # Calculate Jacobian w.r.t. model parameters\n",
    "        J = torch.autograd.grad(loss, list(net.parameters()), create_graph=True)\n",
    "        J = torch.cat([e.flatten() for e in J]) # flatten\n",
    "\n",
    "        # Fill in Hessian\n",
    "        for i in range(num_param):\n",
    "            result = torch.autograd.grad(J[i], list(net.parameters()), retain_graph=True)\n",
    "            H[i] = torch.cat([r.flatten() for r in result]) # flatten\n",
    "        \n",
    "        print(torch.min(H), torch.max(H))\n",
    "        min_hess.append(torch.min(H))\n",
    "        max_hess.append(torch.max(H))\n",
    "\n",
    "        break \n",
    "\n",
    "min_hess = torch.tensor(min_hess)\n",
    "max_hess = torch.tensor(max_hess)\n",
    "\n",
    "print(f\"min_hess = {min_hess} max_hess = {max_hess}\")"
   ]
  },
  {
   "cell_type": "code",
   "execution_count": 9,
   "metadata": {},
   "outputs": [
    {
     "data": {
      "text/plain": [
       "tensor(-0.0405)"
      ]
     },
     "execution_count": 9,
     "metadata": {},
     "output_type": "execute_result"
    }
   ],
   "source": [
    "torch.mean(min_hess)"
   ]
  },
  {
   "cell_type": "code",
   "execution_count": 10,
   "metadata": {},
   "outputs": [
    {
     "data": {
      "text/plain": [
       "tensor(0.0847)"
      ]
     },
     "execution_count": 10,
     "metadata": {},
     "output_type": "execute_result"
    }
   ],
   "source": [
    "torch.mean(max_hess)"
   ]
  },
  {
   "cell_type": "code",
   "execution_count": 11,
   "metadata": {},
   "outputs": [],
   "source": [
    "Ff = 0.061; F0 = 1.643; Fn = 0.322"
   ]
  },
  {
   "cell_type": "code",
   "execution_count": 12,
   "metadata": {},
   "outputs": [
    {
     "data": {
      "text/plain": [
       "0.1649810366624526"
      ]
     },
     "execution_count": 12,
     "metadata": {},
     "output_type": "execute_result"
    }
   ],
   "source": [
    "(Fn - Ff)/(F0 - Ff)"
   ]
  },
  {
   "cell_type": "code",
   "execution_count": 15,
   "metadata": {},
   "outputs": [
    {
     "data": {
      "text/plain": [
       "tensor([0.])"
      ]
     },
     "execution_count": 15,
     "metadata": {},
     "output_type": "execute_result"
    }
   ],
   "source": [
    "torch.zeros(1)"
   ]
  },
  {
   "cell_type": "code",
   "execution_count": 16,
   "metadata": {},
   "outputs": [],
   "source": [
    "x = torch.randn(3)"
   ]
  },
  {
   "cell_type": "code",
   "execution_count": 27,
   "metadata": {},
   "outputs": [
    {
     "data": {
      "text/plain": [
       "torch.Size([3])"
      ]
     },
     "execution_count": 27,
     "metadata": {},
     "output_type": "execute_result"
    }
   ],
   "source": [
    "x.shape\n",
    "# x"
   ]
  },
  {
   "cell_type": "code",
   "execution_count": 19,
   "metadata": {},
   "outputs": [],
   "source": [
    "y = torch.rand((3, 3))"
   ]
  },
  {
   "cell_type": "code",
   "execution_count": 20,
   "metadata": {},
   "outputs": [
    {
     "data": {
      "text/plain": [
       "tensor([[0.6816, 0.3936, 0.8691],\n",
       "        [0.7012, 0.7457, 0.9011],\n",
       "        [0.2661, 0.2115, 0.2770]])"
      ]
     },
     "execution_count": 20,
     "metadata": {},
     "output_type": "execute_result"
    }
   ],
   "source": [
    "y"
   ]
  },
  {
   "cell_type": "code",
   "execution_count": 25,
   "metadata": {},
   "outputs": [],
   "source": [
    "y = y.view(-1)"
   ]
  },
  {
   "cell_type": "code",
   "execution_count": 26,
   "metadata": {},
   "outputs": [
    {
     "data": {
      "text/plain": [
       "torch.Size([9])"
      ]
     },
     "execution_count": 26,
     "metadata": {},
     "output_type": "execute_result"
    }
   ],
   "source": [
    "y.shape"
   ]
  },
  {
   "cell_type": "code",
   "execution_count": 30,
   "metadata": {},
   "outputs": [],
   "source": [
    "hess = torch.load('hessian.pt')"
   ]
  },
  {
   "cell_type": "code",
   "execution_count": 31,
   "metadata": {},
   "outputs": [
    {
     "data": {
      "text/plain": [
       "tensor(11.8505, device='cuda:0', grad_fn=<MaxBackward1>)"
      ]
     },
     "execution_count": 31,
     "metadata": {},
     "output_type": "execute_result"
    }
   ],
   "source": [
    "torch.max(hess)"
   ]
  },
  {
   "cell_type": "code",
   "execution_count": 32,
   "metadata": {},
   "outputs": [
    {
     "data": {
      "text/plain": [
       "tensor(-8.7001, device='cuda:0', grad_fn=<MinBackward1>)"
      ]
     },
     "execution_count": 32,
     "metadata": {},
     "output_type": "execute_result"
    }
   ],
   "source": [
    "torch.min(hess)"
   ]
  },
  {
   "cell_type": "code",
   "execution_count": 33,
   "metadata": {},
   "outputs": [],
   "source": [
    "jab = torch.load('jacobian.pt')"
   ]
  },
  {
   "cell_type": "code",
   "execution_count": 40,
   "metadata": {},
   "outputs": [
    {
     "ename": "ValueError",
     "evalue": "only one element tensors can be converted to Python scalars",
     "output_type": "error",
     "traceback": [
      "\u001b[0;31m---------------------------------------------------------------------------\u001b[0m",
      "\u001b[0;31mValueError\u001b[0m                                Traceback (most recent call last)",
      "Cell \u001b[0;32mIn[40], line 1\u001b[0m\n\u001b[0;32m----> 1\u001b[0m jab \u001b[39m=\u001b[39m torch\u001b[39m.\u001b[39;49mtensor(jab)\n",
      "\u001b[0;31mValueError\u001b[0m: only one element tensors can be converted to Python scalars"
     ]
    }
   ],
   "source": [
    "jab = torch.tensor(jab)"
   ]
  },
  {
   "cell_type": "code",
   "execution_count": 36,
   "metadata": {},
   "outputs": [
    {
     "data": {
      "text/plain": [
       "tensor(1.0359, device='cuda:0', grad_fn=<MaxBackward1>)"
      ]
     },
     "execution_count": 36,
     "metadata": {},
     "output_type": "execute_result"
    }
   ],
   "source": [
    "torch.max(jab[0][1])"
   ]
  },
  {
   "cell_type": "code",
   "execution_count": 37,
   "metadata": {},
   "outputs": [
    {
     "data": {
      "text/plain": [
       "tensor(-1.5386, device='cuda:0', grad_fn=<MinBackward1>)"
      ]
     },
     "execution_count": 37,
     "metadata": {},
     "output_type": "execute_result"
    }
   ],
   "source": [
    "torch.min(jab[0][1])"
   ]
  },
  {
   "cell_type": "code",
   "execution_count": 38,
   "metadata": {},
   "outputs": [
    {
     "data": {
      "text/plain": [
       "tensor(-0.6835, device='cuda:0', grad_fn=<MinBackward1>)"
      ]
     },
     "execution_count": 38,
     "metadata": {},
     "output_type": "execute_result"
    }
   ],
   "source": [
    "torch.min(jab[0][0])"
   ]
  }
 ],
 "metadata": {
  "kernelspec": {
   "display_name": "pytorch-gpu",
   "language": "python",
   "name": "python3"
  },
  "language_info": {
   "codemirror_mode": {
    "name": "ipython",
    "version": 3
   },
   "file_extension": ".py",
   "mimetype": "text/x-python",
   "name": "python",
   "nbconvert_exporter": "python",
   "pygments_lexer": "ipython3",
   "version": "3.11.3"
  },
  "orig_nbformat": 4
 },
 "nbformat": 4,
 "nbformat_minor": 2
}
